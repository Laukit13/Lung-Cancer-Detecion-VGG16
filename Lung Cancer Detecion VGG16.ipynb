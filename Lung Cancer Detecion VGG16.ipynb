{
 "cells": [
  {
   "cell_type": "code",
   "execution_count": 85,
   "id": "46d5355b",
   "metadata": {},
   "outputs": [],
   "source": [
    "import numpy as np \n",
    "import pandas as pd\n",
    "import tensorflow as tf\n",
    "from tensorflow.keras import layers\n",
    "from tensorflow.keras.layers.experimental import preprocessing\n",
    "from tensorflow.keras.applications.vgg19 import VGG19\n",
    "from tensorflow.keras.applications.vgg19 import preprocess_input\n",
    "from tensorflow.keras.applications.vgg16 import VGG16\n",
    "from tensorflow.keras.preprocessing.image import ImageDataGenerator\n",
    "from tensorflow.keras.models import Model\n",
    "import os\n",
    "import cv2\n",
    "import matplotlib.pyplot as plt\n",
    "import PIL.Image as img\n",
    "from tensorflow.keras.preprocessing import image\n",
    "from tensorflow.keras.models import Sequential\n",
    "from tensorflow.keras.layers import Conv2D, MaxPooling2D, Dropout, Flatten, Dense,GaussianNoise,GlobalAveragePooling2D,BatchNormalization\n",
    "from tensorflow.keras.models import Model\n",
    "from tensorflow.keras.models import load_model\n",
    "from tensorflow.keras.applications import ResNet50\n",
    "from tensorflow.keras.callbacks import ModelCheckpoint, EarlyStopping\n",
    "from tensorflow.keras.applications.inception_v3 import InceptionV3\n",
    "from keras import optimizers"
   ]
  },
  {
   "cell_type": "code",
   "execution_count": 86,
   "id": "ad1e132d",
   "metadata": {},
   "outputs": [],
   "source": [
    "train_dir = 'C:/Users/Laukit/Downloads/Chest CT Scan/train/'\n",
    "test_dir = 'C:/Users/Laukit/Downloads/Chest CT Scan/test/'\n",
    "val_dir = 'C:/Users/Laukit/Downloads/Chest CT Scan/valid/'"
   ]
  },
  {
   "cell_type": "code",
   "execution_count": 87,
   "id": "af2853b4",
   "metadata": {},
   "outputs": [
    {
     "name": "stdout",
     "output_type": "stream",
     "text": [
      "Found 613 images belonging to 4 classes.\n",
      "Found 315 images belonging to 4 classes.\n",
      "Found 72 images belonging to 4 classes.\n"
     ]
    }
   ],
   "source": [
    "IMAGE_SIZE=256\n",
    "BATCH_SIZE=32\n",
    "\n",
    "train_datagen = ImageDataGenerator(dtype='float32')\n",
    "train_generator= train_datagen.flow_from_directory(train_dir,\n",
    "                                                batch_size=BATCH_SIZE,\n",
    "                                                target_size=(IMAGE_SIZE,IMAGE_SIZE),\n",
    "                                                shuffle=True,\n",
    "                                                class_mode='categorical')\n",
    "\n",
    "test_datagen = ImageDataGenerator(dtype='float32')\n",
    "test_generator = test_datagen.flow_from_directory(test_dir,\n",
    "                                                batch_size=BATCH_SIZE,\n",
    "                                                target_size=(IMAGE_SIZE,IMAGE_SIZE),\n",
    "                                                shuffle=True,\n",
    "                                                class_mode='categorical')\n",
    "\n",
    "\n",
    "val_datagen = ImageDataGenerator(dtype='float32')\n",
    "val_generator = val_datagen.flow_from_directory(val_dir,\n",
    "                                                batch_size=BATCH_SIZE,\n",
    "                                                target_size=(IMAGE_SIZE,IMAGE_SIZE),\n",
    "                                                shuffle=True,\n",
    "                                                class_mode='categorical')"
   ]
  },
  {
   "cell_type": "code",
   "execution_count": 88,
   "id": "ffc21af7",
   "metadata": {},
   "outputs": [
    {
     "data": {
      "text/plain": [
       "{'adenocarcinoma': 0,\n",
       " 'large.cell.carcinoma': 1,\n",
       " 'normal': 2,\n",
       " 'squamous.cell.carcinoma': 3}"
      ]
     },
     "execution_count": 88,
     "metadata": {},
     "output_type": "execute_result"
    }
   ],
   "source": [
    "test_generator.class_indices"
   ]
  },
  {
   "cell_type": "code",
   "execution_count": 11,
   "id": "5c69d055",
   "metadata": {},
   "outputs": [
    {
     "name": "stdout",
     "output_type": "stream",
     "text": [
      "Model: \"vgg16\"\n",
      "_________________________________________________________________\n",
      " Layer (type)                Output Shape              Param #   \n",
      "=================================================================\n",
      " input_2 (InputLayer)        [(None, 256, 256, 3)]     0         \n",
      "                                                                 \n",
      " block1_conv1 (Conv2D)       (None, 256, 256, 64)      1792      \n",
      "                                                                 \n",
      " block1_conv2 (Conv2D)       (None, 256, 256, 64)      36928     \n",
      "                                                                 \n",
      " block1_pool (MaxPooling2D)  (None, 128, 128, 64)      0         \n",
      "                                                                 \n",
      " block2_conv1 (Conv2D)       (None, 128, 128, 128)     73856     \n",
      "                                                                 \n",
      " block2_conv2 (Conv2D)       (None, 128, 128, 128)     147584    \n",
      "                                                                 \n",
      " block2_pool (MaxPooling2D)  (None, 64, 64, 128)       0         \n",
      "                                                                 \n",
      " block3_conv1 (Conv2D)       (None, 64, 64, 256)       295168    \n",
      "                                                                 \n",
      " block3_conv2 (Conv2D)       (None, 64, 64, 256)       590080    \n",
      "                                                                 \n",
      " block3_conv3 (Conv2D)       (None, 64, 64, 256)       590080    \n",
      "                                                                 \n",
      " block3_pool (MaxPooling2D)  (None, 32, 32, 256)       0         \n",
      "                                                                 \n",
      " block4_conv1 (Conv2D)       (None, 32, 32, 512)       1180160   \n",
      "                                                                 \n",
      " block4_conv2 (Conv2D)       (None, 32, 32, 512)       2359808   \n",
      "                                                                 \n",
      " block4_conv3 (Conv2D)       (None, 32, 32, 512)       2359808   \n",
      "                                                                 \n",
      " block4_pool (MaxPooling2D)  (None, 16, 16, 512)       0         \n",
      "                                                                 \n",
      " block5_conv1 (Conv2D)       (None, 16, 16, 512)       2359808   \n",
      "                                                                 \n",
      " block5_conv2 (Conv2D)       (None, 16, 16, 512)       2359808   \n",
      "                                                                 \n",
      " block5_conv3 (Conv2D)       (None, 16, 16, 512)       2359808   \n",
      "                                                                 \n",
      " block5_pool (MaxPooling2D)  (None, 8, 8, 512)         0         \n",
      "                                                                 \n",
      "=================================================================\n",
      "Total params: 14,714,688\n",
      "Trainable params: 0\n",
      "Non-trainable params: 14,714,688\n",
      "_________________________________________________________________\n"
     ]
    }
   ],
   "source": [
    "VGG_model = VGG16(include_top=False, weights='imagenet', input_shape = (IMAGE_SIZE, IMAGE_SIZE,3))\n",
    "for layer in VGG_model.layers:\n",
    "    layer.trainable = False\n",
    "VGG_model.summary()"
   ]
  },
  {
   "cell_type": "code",
   "execution_count": 12,
   "id": "583fde52",
   "metadata": {},
   "outputs": [
    {
     "name": "stdout",
     "output_type": "stream",
     "text": [
      "Model: \"sequential_1\"\n",
      "_________________________________________________________________\n",
      " Layer (type)                Output Shape              Param #   \n",
      "=================================================================\n",
      " vgg16 (Functional)          (None, 8, 8, 512)         14714688  \n",
      "                                                                 \n",
      " flatten_1 (Flatten)         (None, 32768)             0         \n",
      "                                                                 \n",
      " dense_1 (Dense)             (None, 4)                 131076    \n",
      "                                                                 \n",
      "=================================================================\n",
      "Total params: 14,845,764\n",
      "Trainable params: 131,076\n",
      "Non-trainable params: 14,714,688\n",
      "_________________________________________________________________\n"
     ]
    }
   ],
   "source": [
    "model = Sequential()\n",
    "model.add(VGG_model)\n",
    "model.add(Flatten())\n",
    "model.add(Dense(4, activation='softmax'))\n",
    "model.summary()"
   ]
  },
  {
   "cell_type": "code",
   "execution_count": 13,
   "id": "181a9097",
   "metadata": {},
   "outputs": [],
   "source": [
    "model.compile(optimizer='adam', loss = 'categorical_crossentropy', metrics = ['accuracy','AUC','Precision','Recall'])"
   ]
  },
  {
   "cell_type": "code",
   "execution_count": 14,
   "id": "528a40fd",
   "metadata": {},
   "outputs": [
    {
     "name": "stdout",
     "output_type": "stream",
     "text": [
      "Epoch 1/30\n",
      "7/7 [==============================] - 70s 10s/step - loss: 20.1419 - accuracy: 0.4330 - auc: 0.6444 - precision: 0.4330 - recall: 0.4330 - val_loss: 25.1306 - val_accuracy: 0.4722 - val_auc: 0.6462 - val_precision: 0.4722 - val_recall: 0.4722\n",
      "Epoch 2/30\n",
      "7/7 [==============================] - 72s 11s/step - loss: 12.8080 - accuracy: 0.6205 - auc: 0.7774 - precision: 0.6205 - recall: 0.6205 - val_loss: 12.5572 - val_accuracy: 0.6528 - val_auc: 0.7801 - val_precision: 0.6528 - val_recall: 0.6528\n",
      "Epoch 3/30\n",
      "7/7 [==============================] - 71s 10s/step - loss: 5.6071 - accuracy: 0.7679 - auc: 0.8708 - precision: 0.7679 - recall: 0.7679 - val_loss: 8.5182 - val_accuracy: 0.7222 - val_auc: 0.8236 - val_precision: 0.7222 - val_recall: 0.7222\n",
      "Epoch 4/30\n",
      "7/7 [==============================] - 64s 9s/step - loss: 1.8599 - accuracy: 0.9340 - auc: 0.9660 - precision: 0.9340 - recall: 0.9340 - val_loss: 4.8360 - val_accuracy: 0.7778 - val_auc: 0.8949 - val_precision: 0.7778 - val_recall: 0.7778\n",
      "Epoch 5/30\n",
      "7/7 [==============================] - 62s 10s/step - loss: 0.7828 - accuracy: 0.9645 - auc: 0.9861 - precision: 0.9645 - recall: 0.9645 - val_loss: 4.4846 - val_accuracy: 0.8611 - val_auc: 0.9071 - val_precision: 0.8611 - val_recall: 0.8611\n",
      "Epoch 6/30\n",
      "7/7 [==============================] - 71s 10s/step - loss: 1.0688 - accuracy: 0.9554 - auc: 0.9758 - precision: 0.9554 - recall: 0.9554 - val_loss: 3.8314 - val_accuracy: 0.8333 - val_auc: 0.9311 - val_precision: 0.8333 - val_recall: 0.8333\n",
      "Epoch 7/30\n",
      "7/7 [==============================] - 70s 10s/step - loss: 0.6026 - accuracy: 0.9777 - auc: 0.9879 - precision: 0.9777 - recall: 0.9777 - val_loss: 5.5474 - val_accuracy: 0.8194 - val_auc: 0.8886 - val_precision: 0.8194 - val_recall: 0.8194\n",
      "Epoch 8/30\n",
      "7/7 [==============================] - 72s 11s/step - loss: 0.7947 - accuracy: 0.9509 - auc: 0.9727 - precision: 0.9509 - recall: 0.9509 - val_loss: 3.6714 - val_accuracy: 0.8611 - val_auc: 0.9250 - val_precision: 0.8611 - val_recall: 0.8611\n",
      "Epoch 9/30\n",
      "7/7 [==============================] - 73s 11s/step - loss: 0.0430 - accuracy: 0.9911 - auc: 0.9970 - precision: 0.9911 - recall: 0.9911 - val_loss: 3.8758 - val_accuracy: 0.8750 - val_auc: 0.9358 - val_precision: 0.8750 - val_recall: 0.8750\n",
      "Epoch 10/30\n",
      "7/7 [==============================] - 74s 11s/step - loss: 0.3444 - accuracy: 0.9955 - auc: 0.9970 - precision: 0.9955 - recall: 0.9955 - val_loss: 5.2103 - val_accuracy: 0.8472 - val_auc: 0.9230 - val_precision: 0.8472 - val_recall: 0.8472\n",
      "Epoch 11/30\n",
      "7/7 [==============================] - 78s 11s/step - loss: 0.3769 - accuracy: 0.9821 - auc: 0.9909 - precision: 0.9821 - recall: 0.9821 - val_loss: 3.9404 - val_accuracy: 0.9028 - val_auc: 0.9362 - val_precision: 0.9028 - val_recall: 0.9028\n",
      "Epoch 12/30\n",
      "7/7 [==============================] - 71s 12s/step - loss: 0.0580 - accuracy: 0.9949 - auc: 0.9966 - precision: 0.9949 - recall: 0.9949 - val_loss: 4.2693 - val_accuracy: 0.8611 - val_auc: 0.9142 - val_precision: 0.8611 - val_recall: 0.8611\n",
      "Epoch 13/30\n",
      "7/7 [==============================] - 75s 12s/step - loss: 0.6219 - accuracy: 0.9848 - auc: 0.9931 - precision: 0.9848 - recall: 0.9848 - val_loss: 3.3184 - val_accuracy: 0.8889 - val_auc: 0.9452 - val_precision: 0.8889 - val_recall: 0.8889\n",
      "Epoch 14/30\n",
      "7/7 [==============================] - 76s 11s/step - loss: 0.0052 - accuracy: 1.0000 - auc: 1.0000 - precision: 1.0000 - recall: 1.0000 - val_loss: 4.4001 - val_accuracy: 0.8889 - val_auc: 0.9405 - val_precision: 0.8889 - val_recall: 0.8889\n",
      "Epoch 15/30\n",
      "7/7 [==============================] - 83s 12s/step - loss: 0.1568 - accuracy: 0.9866 - auc: 0.9910 - precision: 0.9866 - recall: 0.9866 - val_loss: 4.2775 - val_accuracy: 0.9028 - val_auc: 0.9416 - val_precision: 0.9028 - val_recall: 0.9028\n",
      "Epoch 16/30\n",
      "7/7 [==============================] - 71s 12s/step - loss: 0.0063 - accuracy: 0.9949 - auc: 1.0000 - precision: 0.9949 - recall: 0.9949 - val_loss: 4.8867 - val_accuracy: 0.8472 - val_auc: 0.9141 - val_precision: 0.8472 - val_recall: 0.8472\n",
      "Epoch 17/30\n",
      "7/7 [==============================] - 80s 12s/step - loss: 0.0084 - accuracy: 0.9955 - auc: 1.0000 - precision: 0.9955 - recall: 0.9955 - val_loss: 5.8444 - val_accuracy: 0.8333 - val_auc: 0.8960 - val_precision: 0.8333 - val_recall: 0.8333\n",
      "Epoch 18/30\n",
      "7/7 [==============================] - 76s 11s/step - loss: 0.8197 - accuracy: 0.9898 - auc: 0.9965 - precision: 0.9898 - recall: 0.9898 - val_loss: 3.7297 - val_accuracy: 0.8750 - val_auc: 0.9347 - val_precision: 0.8750 - val_recall: 0.8750\n",
      "Epoch 19/30\n",
      "7/7 [==============================] - 87s 13s/step - loss: 0.9037 - accuracy: 0.9911 - auc: 0.9940 - precision: 0.9911 - recall: 0.9911 - val_loss: 3.5639 - val_accuracy: 0.8750 - val_auc: 0.9195 - val_precision: 0.8750 - val_recall: 0.8750\n",
      "Epoch 20/30\n",
      "7/7 [==============================] - 85s 13s/step - loss: 0.7308 - accuracy: 0.9911 - auc: 0.9940 - precision: 0.9911 - recall: 0.9911 - val_loss: 3.5678 - val_accuracy: 0.9028 - val_auc: 0.9347 - val_precision: 0.9028 - val_recall: 0.9028\n",
      "Epoch 21/30\n",
      "7/7 [==============================] - 84s 12s/step - loss: 0.3870 - accuracy: 0.9955 - auc: 0.9970 - precision: 0.9955 - recall: 0.9955 - val_loss: 7.1240 - val_accuracy: 0.8333 - val_auc: 0.9017 - val_precision: 0.8333 - val_recall: 0.8333\n",
      "Epoch 22/30\n",
      "7/7 [==============================] - 74s 11s/step - loss: 0.1937 - accuracy: 0.9695 - auc: 0.9862 - precision: 0.9695 - recall: 0.9695 - val_loss: 4.6259 - val_accuracy: 0.8611 - val_auc: 0.9230 - val_precision: 0.8611 - val_recall: 0.8611\n",
      "Epoch 23/30\n",
      "7/7 [==============================] - 73s 11s/step - loss: 2.1845 - accuracy: 0.9594 - auc: 0.9795 - precision: 0.9594 - recall: 0.9594 - val_loss: 5.0525 - val_accuracy: 0.8611 - val_auc: 0.9072 - val_precision: 0.8611 - val_recall: 0.8611\n",
      "Epoch 24/30\n",
      "7/7 [==============================] - 72s 10s/step - loss: 0.1122 - accuracy: 0.9848 - auc: 0.9965 - precision: 0.9848 - recall: 0.9848 - val_loss: 9.4641 - val_accuracy: 0.7083 - val_auc: 0.8056 - val_precision: 0.7083 - val_recall: 0.7083\n",
      "Epoch 25/30\n",
      "7/7 [==============================] - 75s 11s/step - loss: 0.1509 - accuracy: 0.9848 - auc: 0.9931 - precision: 0.9848 - recall: 0.9848 - val_loss: 3.7151 - val_accuracy: 0.9028 - val_auc: 0.9516 - val_precision: 0.9028 - val_recall: 0.9028\n",
      "Epoch 26/30\n",
      "7/7 [==============================] - 80s 12s/step - loss: 0.9677 - accuracy: 0.9688 - auc: 0.9850 - precision: 0.9688 - recall: 0.9688 - val_loss: 3.8772 - val_accuracy: 0.8611 - val_auc: 0.9488 - val_precision: 0.8611 - val_recall: 0.8611\n",
      "Epoch 27/30\n",
      "7/7 [==============================] - 79s 12s/step - loss: 0.2470 - accuracy: 0.9866 - auc: 0.9910 - precision: 0.9866 - recall: 0.9866 - val_loss: 8.9212 - val_accuracy: 0.7222 - val_auc: 0.8286 - val_precision: 0.7324 - val_recall: 0.7222\n",
      "Epoch 28/30\n",
      "7/7 [==============================] - 81s 12s/step - loss: 0.1180 - accuracy: 0.9866 - auc: 0.9910 - precision: 0.9866 - recall: 0.9866 - val_loss: 5.7982 - val_accuracy: 0.8194 - val_auc: 0.8779 - val_precision: 0.8194 - val_recall: 0.8194\n",
      "Epoch 29/30\n",
      "7/7 [==============================] - 84s 13s/step - loss: 0.3966 - accuracy: 0.9643 - auc: 0.9848 - precision: 0.9643 - recall: 0.9643 - val_loss: 4.2446 - val_accuracy: 0.8889 - val_auc: 0.9336 - val_precision: 0.8889 - val_recall: 0.8889\n",
      "Epoch 30/30\n",
      "7/7 [==============================] - 89s 13s/step - loss: 0.1832 - accuracy: 0.9866 - auc: 0.9940 - precision: 0.9866 - recall: 0.9866 - val_loss: 7.1952 - val_accuracy: 0.7778 - val_auc: 0.8804 - val_precision: 0.7778 - val_recall: 0.7778\n"
     ]
    }
   ],
   "source": [
    "history_res = model.fit(train_generator,\n",
    "                            steps_per_epoch = 7,\n",
    "                            epochs = 30,\n",
    "                            validation_data = val_generator)"
   ]
  },
  {
   "cell_type": "code",
   "execution_count": 15,
   "id": "65ccfdeb",
   "metadata": {},
   "outputs": [
    {
     "name": "stdout",
     "output_type": "stream",
     "text": [
      "10/10 [==============================] - 85s 8s/step - loss: 6.7506 - accuracy: 0.7397 - auc: 0.8557 - precision: 0.7397 - recall: 0.7397\n"
     ]
    },
    {
     "data": {
      "text/plain": [
       "[6.750626087188721,\n",
       " 0.7396825551986694,\n",
       " 0.8557150959968567,\n",
       " 0.7396825551986694,\n",
       " 0.7396825551986694]"
      ]
     },
     "execution_count": 15,
     "metadata": {},
     "output_type": "execute_result"
    }
   ],
   "source": [
    "# Evaluate the model\n",
    "model.evaluate(test_generator)"
   ]
  },
  {
   "cell_type": "code",
   "execution_count": 16,
   "id": "f8062cd0",
   "metadata": {},
   "outputs": [
    {
     "name": "stdout",
     "output_type": "stream",
     "text": [
      "20/20 [==============================] - 171s 9s/step - loss: 0.4368 - accuracy: 0.9837 - auc: 0.9934 - precision: 0.9837 - recall: 0.9837\n"
     ]
    },
    {
     "data": {
      "text/plain": [
       "[0.43682312965393066,\n",
       " 0.9836868047714233,\n",
       " 0.993377149105072,\n",
       " 0.9836868047714233,\n",
       " 0.9836868047714233]"
      ]
     },
     "execution_count": 16,
     "metadata": {},
     "output_type": "execute_result"
    }
   ],
   "source": [
    "model.evaluate(train_generator)"
   ]
  },
  {
   "cell_type": "code",
   "execution_count": 17,
   "id": "3cdc7f74",
   "metadata": {},
   "outputs": [
    {
     "name": "stdout",
     "output_type": "stream",
     "text": [
      "3/3 [==============================] - 20s 5s/step - loss: 7.1952 - accuracy: 0.7778 - auc: 0.8804 - precision: 0.7778 - recall: 0.7778\n"
     ]
    },
    {
     "data": {
      "text/plain": [
       "[7.195196151733398,\n",
       " 0.7777777910232544,\n",
       " 0.8804011940956116,\n",
       " 0.7777777910232544,\n",
       " 0.7777777910232544]"
      ]
     },
     "execution_count": 17,
     "metadata": {},
     "output_type": "execute_result"
    }
   ],
   "source": [
    "model.evaluate(val_generator)"
   ]
  },
  {
   "cell_type": "code",
   "execution_count": 12,
   "id": "3c687c3a",
   "metadata": {},
   "outputs": [
    {
     "data": {
      "image/png": "[encoded data removed]",
      "text/plain": [
       "<Figure size 432x288 with 1 Axes>"
      ]
     },
     "metadata": {
      "needs_background": "light"
     },
     "output_type": "display_data"
    }
   ],
   "source": [
    "history_df = pd.DataFrame(history_res.history)\n",
    "history_df.loc[:, ['loss', 'val_loss']].plot();"
   ]
  },
  {
   "cell_type": "code",
   "execution_count": 77,
   "id": "925bb3ad",
   "metadata": {},
   "outputs": [
    {
     "name": "stdout",
     "output_type": "stream",
     "text": [
      "Model Saved!\n"
     ]
    }
   ],
   "source": [
    "# model.save('VGG_16_BestModel_chestCT.h5')\n",
    "# print('Model Saved!')"
   ]
  },
  {
   "cell_type": "code",
   "execution_count": 84,
   "id": "b70e0691",
   "metadata": {},
   "outputs": [
    {
     "name": "stdout",
     "output_type": "stream",
     "text": [
      "Model: \"sequential_1\"\n",
      "_________________________________________________________________\n",
      " Layer (type)                Output Shape              Param #   \n",
      "=================================================================\n",
      " vgg16 (Functional)          (None, 8, 8, 512)         14714688  \n",
      "                                                                 \n",
      " flatten_1 (Flatten)         (None, 32768)             0         \n",
      "                                                                 \n",
      " dense_1 (Dense)             (None, 4)                 131076    \n",
      "                                                                 \n",
      "=================================================================\n",
      "Total params: 14,845,764\n",
      "Trainable params: 131,076\n",
      "Non-trainable params: 14,714,688\n",
      "_________________________________________________________________\n"
     ]
    }
   ],
   "source": [
    "savedModel5=load_model('VGG_16_BestModel_chestCT.h5')\n",
    "savedModel5.summary()"
   ]
  },
  {
   "cell_type": "code",
   "execution_count": 83,
   "id": "4faf8d73",
   "metadata": {},
   "outputs": [
    {
     "name": "stdout",
     "output_type": "stream",
     "text": [
      "[[9.9999619e-01 1.7623377e-18 0.0000000e+00 3.7711141e-06]]\n",
      "THE UPLOADED IMAGE IS SUSPECTED AS: Adenocarcinoma\n"
     ]
    },
    {
     "data": {
      "image/png": "[encoded data removed]",
      "text/plain": [
       "<Figure size 432x288 with 1 Axes>"
      ]
     },
     "metadata": {
      "needs_background": "light"
     },
     "output_type": "display_data"
    }
   ],
   "source": [
    "img = image.load_img('adenocarcinoma8.png',target_size=(256,256))\n",
    "imag = image.img_to_array(img)\n",
    "imaga = np.expand_dims(imag,axis=0) \n",
    "ypred = savedModel5.predict(imaga)\n",
    "print(ypred)\n",
    "a=np.argmax(ypred,-1)\n",
    "if a==0:\n",
    "      op=\"Adenocarcinoma\"\n",
    "elif a==1:\n",
    "      op=\"large cell carcinoma\"\n",
    "elif a==2:\n",
    "      op=\"normal (void of cancer)\"\n",
    "else:\n",
    "      op=\"squamous cell carcinoma\"    \n",
    "plt.imshow(img)\n",
    "print(\"THE UPLOADED IMAGE IS SUSPECTED AS: \"+str(op))  "
   ]
  },
  {
   "cell_type": "code",
   "execution_count": 18,
   "id": "f173f940",
   "metadata": {},
   "outputs": [
    {
     "data": {
      "text/plain": [
       "{'adenocarcinoma': 0,\n",
       " 'large.cell.carcinoma': 1,\n",
       " 'normal': 2,\n",
       " 'squamous.cell.carcinoma': 3}"
      ]
     },
     "execution_count": 18,
     "metadata": {},
     "output_type": "execute_result"
    }
   ],
   "source": [
    "test_generator.class_indices"
   ]
  },
  {
   "cell_type": "code",
   "execution_count": null,
   "id": "28ddaf4d",
   "metadata": {},
   "outputs": [],
   "source": []
  }
 ],
 "metadata": {
  "kernelspec": {
   "display_name": "Python 3 (ipykernel)",
   "language": "python",
   "name": "python3"
  },
  "language_info": {
   "codemirror_mode": {
    "name": "ipython",
    "version": 3
   },
   "file_extension": ".py",
   "mimetype": "text/x-python",
   "name": "python",
   "nbconvert_exporter": "python",
   "pygments_lexer": "ipython3",
   "version": "3.11.5"
  }
 },
 "nbformat": 4,
 "nbformat_minor": 5
}
